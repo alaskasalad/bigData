{
 "cells": [
  {
   "cell_type": "markdown",
   "id": "724fd47d",
   "metadata": {},
   "source": [
    "## STA 4724: Homework 1 - Due Friday, Sep. 12 \n",
    "**Instructions**: Finsih the assign by directly answering the question or finishing the code in this Jupyter notebook. \n",
    "\n",
    "After you finish, submit the saved notebook to webcourses."
   ]
  },
  {
   "cell_type": "markdown",
   "id": "b28770c6",
   "metadata": {},
   "source": [
    "**Your name:**                     \n",
    "\n",
    "**Your ID:**"
   ]
  },
  {
   "cell_type": "markdown",
   "id": "4e1f7ada",
   "metadata": {},
   "source": [
    "## Question 1\n",
    "Write a function $\\mathtt{largerIndex}(c)$ that takes as input a list $c$ of numbers, and returns a new list $k$, such that $k[i] = 1$ if $c[i] > i$, $k[i] = 0$ if $c[i] = i$, $k[i] = -1$ if $c[i] < i$.\n",
    "\n"
   ]
  },
  {
   "cell_type": "markdown",
   "id": "6b792a5f",
   "metadata": {},
   "source": [
    "*Sample test cases*:\n",
    "\n",
    "$l1 = [1,2,0,4,2,1,40,-5]$ \n",
    "\n",
    "$l2 = [0,3,2,1,32,3,4,0]$ \n",
    "\n",
    "$\\mathtt{largerIndex}(l1)$ should return $[1, 1, -1, 1, -1, -1, 1, -1]$. \n",
    "\n",
    "$\\mathtt{largerIndex}(l2)$ should return $[0, 1, 0, -1, 1, -1, -1, -1]$. \n"
   ]
  },
  {
   "cell_type": "code",
   "execution_count": null,
   "id": "f4c42d46",
   "metadata": {},
   "outputs": [],
   "source": [
    "def largerIndex(c):\n",
    "    k = [0] * len(c)\n",
    "    for i in range (len(c)):\n",
    "        if c[i] > i:\n",
    "            k[i] = 1\n",
    "        elif c[i] < i:\n",
    "            k[i] = -1\n",
    "        else:\n",
    "            k[i] = 0\n",
    "    return k"
   ]
  },
  {
   "cell_type": "markdown",
   "id": "26988db5",
   "metadata": {},
   "source": [
    "## Question 2\n",
    "Write a function $\\mathtt{squareUpTo}(n)$ that takes as input a positive integer $n$, and returns a list of all the square numbers\n",
    "up to (and possibly including) $n$."
   ]
  },
  {
   "cell_type": "markdown",
   "id": "454df099",
   "metadata": {},
   "source": [
    "*Sample test cases*:\n",
    "\n",
    "$\\mathtt{squareUpTo}(10)$ should return $[0, 1, 4, 9].$\n",
    "\n",
    "$\\mathtt{squareUpTo}(100)$ should return $[0, 1, 4, 9, 16, 25, 36, 49, 64, 81, 100]$."
   ]
  },
  {
   "cell_type": "code",
   "execution_count": null,
   "id": "42e77179",
   "metadata": {},
   "outputs": [],
   "source": [
    "def squareUpTo(n):\n",
    "    ans = []\n",
    "    for i in range(n): \n",
    "        sum = i * i\n",
    "        if sum > n:\n",
    "            return ans\n",
    "        ans.append(sum)\n",
    "    return ans"
   ]
  },
  {
   "cell_type": "markdown",
   "id": "93113a94",
   "metadata": {},
   "source": [
    "## Question 3\n",
    "Write a function $\\mathtt{flip1in3}()$ that uses only \"fair coins\" to generate a \"biased coin\" with success probability $\\frac{1}{3}$. That is, this function returns **False** with probability $\\frac{2}{3}$ and returns **True** with probability $\\frac{1}{3}$. To simulate a \"fair coin\", use $\\mathtt{random.randint(0,1)}$.\n",
    "\n",
    "Check https://en.wikipedia.org/wiki/Fair_coin for the terms \"fair coin\" and \"biased coin\" if you are not familiar with the terms."
   ]
  },
  {
   "cell_type": "code",
   "execution_count": null,
   "id": "67101e6e",
   "metadata": {},
   "outputs": [],
   "source": [
    "import random\n",
    "\n",
    "def flip1in3():\n",
    "    while True:\n",
    "        a = random.randint(0, 1)\n",
    "        b = random.randint(0, 1)\n",
    "\n",
    "        num = 2 * a + b\n",
    "        if num == 3:\n",
    "            continue\n",
    "        return (num == 0)"
   ]
  },
  {
   "cell_type": "markdown",
   "id": "c1212739",
   "metadata": {},
   "source": [
    "## Question 4\n",
    "\n",
    "Write a function $\\mathtt{duplicates}(c)$ that takes as input a list $c$ of integers. Some elements appear twice and others appear once. The function outputs all the elements as a list that appear twice in the list $c$. The elements in the output should preserve the original order.\n"
   ]
  },
  {
   "cell_type": "markdown",
   "id": "f77ed429",
   "metadata": {},
   "source": [
    "*Sample test cases*:\n",
    "\n",
    "$l3 = [1,2,5,3,6,2,4,5]$\n",
    "\n",
    "$l4 = [1,3,5,5,1,4,3]$\n",
    "\n",
    "$\\mathtt{duplicates}(l3)$ should return $[2,5]$.\n",
    "\n",
    "$\\mathtt{duplicates}(l4)$ should return $[1,3,5]$."
   ]
  },
  {
   "cell_type": "code",
   "execution_count": null,
   "id": "12907ab7",
   "metadata": {},
   "outputs": [],
   "source": [
    "def duplicates(c):\n",
    "    ans = []\n",
    "    freq = {}\n",
    "    for num in c:\n",
    "        if num in freq:\n",
    "            freq[num] += 1\n",
    "            ans.append(num)\n",
    "        else:\n",
    "            freq[num] = 1\n",
    "    return ans"
   ]
  }
 ],
 "metadata": {
  "kernelspec": {
   "display_name": "Python 3 (ipykernel)",
   "language": "python",
   "name": "python3"
  },
  "language_info": {
   "codemirror_mode": {
    "name": "ipython",
    "version": 3
   },
   "file_extension": ".py",
   "mimetype": "text/x-python",
   "name": "python",
   "nbconvert_exporter": "python",
   "pygments_lexer": "ipython3",
   "version": "3.9.12"
  }
 },
 "nbformat": 4,
 "nbformat_minor": 5
}
